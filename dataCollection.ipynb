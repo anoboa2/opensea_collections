{
 "cells": [
  {
   "cell_type": "code",
   "execution_count": 1,
   "metadata": {},
   "outputs": [],
   "source": [
    "import requests\n",
    "import pandas as pd\n",
    "import numpy as np"
   ]
  },
  {
   "cell_type": "code",
   "execution_count": 2,
   "metadata": {},
   "outputs": [
    {
     "name": "stdout",
     "output_type": "stream",
     "text": [
      "23\n"
     ]
    }
   ],
   "source": [
    "collections = [\n",
    "    'cryptopunks',\n",
    "    'boredapeyachtclub',\n",
    "    'mutant-ape-yacht-club',\n",
    "    'cryptoadz-by-gremplin',\n",
    "    'neo-tokyo-identities',\n",
    "    'doodles-official',\n",
    "    'cool-cats-nft',\n",
    "    'cyberkongz',\n",
    "    'the-doge-pound',\n",
    "    'meebits',\n",
    "    # 'veefriends',\n",
    "    'mekaverse',\n",
    "    'creature-world-collection',\n",
    "    'lazy-lions',\n",
    "    'pudgypenguins',\n",
    "    'deadfellaz',\n",
    "    'sneaky-vampire-syndicate',\n",
    "    'bored-ape-kennel-club',\n",
    "    'world-of-women-nft',\n",
    "    'supducks',\n",
    "    # 'bears-deluxe',\n",
    "    'the-sevens-official',\n",
    "    'thehumanoids',\n",
    "    'thecryptodads',\n",
    "    'robotos-official'\n",
    "    ]\n",
    "\n",
    "collection_report = []\n",
    "\n",
    "print(len(collections))"
   ]
  },
  {
   "cell_type": "code",
   "execution_count": 3,
   "metadata": {},
   "outputs": [],
   "source": [
    "def getCollectionStats(collection):\n",
    "    endpoint = 'https://api.opensea.io/api/v1/collection/'\n",
    "    headers = {}\n",
    "\n",
    "    response = requests.get(url=endpoint+collection)\n",
    "    data = response.json()\n",
    "\n",
    "    return data\n",
    "\n",
    "\n",
    "def parseCollectionDetails(data):\n",
    "    details = {\n",
    "        'name': data['collection']['primary_asset_contracts'][0]['name'],\n",
    "        'slug': data['collection']['slug'],\n",
    "        'symbol': data['collection']['primary_asset_contracts'][0]['symbol'],\n",
    "        'contract_address': data['collection']['primary_asset_contracts'][0]['address'],\n",
    "        'payout_address': data['collection']['primary_asset_contracts'][0]['payout_address'],\n",
    "        'total_supply': data['collection']['stats']['total_supply'],\n",
    "        'contract_created_date': data['collection']['primary_asset_contracts'][0]['created_date']\n",
    "        }\n",
    "\n",
    "    return details\n",
    "\n",
    "\n",
    "def parseTraits(data):\n",
    "    attributes = list(data['collection']['traits'].keys())\n",
    "    trait_counts = data['collection']['traits']\n",
    "    \n",
    "    return attributes, trait_counts\n",
    "\n",
    "\n",
    "def buildShell(attributes):\n",
    "    d = []\n",
    "\n",
    "    for attribute in attributes:\n",
    "        for trait, count in traits[attribute].items():\n",
    "            results = {\n",
    "                'Attribute': attribute,\n",
    "                'Trait': trait,\n",
    "                'Count': count,\n",
    "            }\n",
    "            d.append(results)\n",
    "\n",
    "    return d"
   ]
  },
  {
   "cell_type": "code",
   "execution_count": 4,
   "metadata": {},
   "outputs": [],
   "source": [
    "def calcFrequency(distribution):\n",
    "    # Computes the Trait Frequency, Overall Frequency, and Attribute Frequency of the distribution\n",
    "    for index, row in distribution.iterrows():\n",
    "        distribution.loc[index, 'Trait_Frequency'] = row['Count'] / sum(distribution[distribution['Attribute']==row['Attribute']]['Count'])\n",
    "        distribution.loc[index, 'Overall_Frequency'] = row['Count'] / parseCollectionDetails(data)['total_supply']\n",
    "        distribution.loc[index, 'Attribute_Frequency'] = len(distribution[distribution['Attribute']==row['Attribute']]) / len(distribution['Attribute'])\n",
    "\n",
    "    # distribution = distribution.assign(\n",
    "    #     Trait_Frequency=lambda x: x['Count'] / sum(distribution[distribution['Attribute']==x['Attribute']]['Count']),\n",
    "    #     Overall_Frequency=lambda x: x['Count'] / parseCollectionDetails(data)['total_supply'],\n",
    "    #     Attribute_Frequency=lambda x: len(distribution[distribution['Attribute']==x['Attribute']]) / len(distribution['Attribute'])\n",
    "    # )"
   ]
  },
  {
   "cell_type": "code",
   "execution_count": 5,
   "metadata": {},
   "outputs": [],
   "source": [
    "def assignRanks(distribution, attributes):\n",
    "    # Computes the Trait Rarity for each Trait within an Attribute in the distribution\n",
    "    for attribute in attributes:\n",
    "        trait_rank = {}\n",
    "        subset = distribution[distribution['Attribute']==attribute]['Trait_Frequency'].drop_duplicates()\n",
    "        rank = subset.sort_values().reset_index()\n",
    "        for index, row in rank.iterrows():\n",
    "            trait_rank[row['Trait_Frequency']] = index+1\n",
    "        for index, row in distribution[distribution['Attribute']==attribute].iterrows():\n",
    "            distribution.loc[index, 'Trait_Rank'] = trait_rank[row['Trait_Frequency']]\n",
    "\n",
    "    # Computes the Trait Rarity across all Traits in the distribution\n",
    "    distribution['Overall_Rank'] = list(map(lambda x: x+1, distribution['Overall_Frequency'].sort_values().reset_index().sort_values('index').index))"
   ]
  },
  {
   "cell_type": "code",
   "execution_count": 6,
   "metadata": {},
   "outputs": [],
   "source": [
    "def calcStd(distribution):\n",
    "    # Compute standard deviation of traits within an attribute\n",
    "    for index, row in distribution.iterrows():\n",
    "        distribution.loc[index, 'Attribute_std_dev'] = np.array(distribution[distribution['Attribute']==row['Attribute']]['Trait_Frequency']).std()"
   ]
  },
  {
   "cell_type": "code",
   "execution_count": 7,
   "metadata": {},
   "outputs": [],
   "source": [
    "def calcRarityScore(distribution):\n",
    "    # Computes the Rarity Score of each Trait in the distribution\n",
    "    for index, row in distribution.iterrows():\n",
    "        distribution.loc[index, 'Rarity_Score'] = row['Trait_Frequency'] * row['Overall_Frequency'] * row['Attribute_Frequency']"
   ]
  },
  {
   "cell_type": "code",
   "execution_count": 8,
   "metadata": {},
   "outputs": [
    {
     "name": "stdout",
     "output_type": "stream",
     "text": [
      "Working on cryptopunks\n",
      "Working on boredapeyachtclub\n",
      "Working on mutant-ape-yacht-club\n",
      "Working on cryptoadz-by-gremplin\n",
      "Working on neo-tokyo-identities\n",
      "Working on doodles-official\n",
      "Working on cool-cats-nft\n",
      "Working on cyberkongz\n",
      "Working on the-doge-pound\n",
      "Working on meebits\n",
      "Working on mekaverse\n",
      "Working on creature-world-collection\n",
      "Working on lazy-lions\n",
      "Working on pudgypenguins\n",
      "Working on deadfellaz\n",
      "Working on sneaky-vampire-syndicate\n",
      "Working on bored-ape-kennel-club\n",
      "Working on world-of-women-nft\n",
      "Working on supducks\n",
      "Working on the-sevens-official\n",
      "Working on thehumanoids\n",
      "Working on thecryptodads\n",
      "Working on robotos-official\n"
     ]
    }
   ],
   "source": [
    "for collection in collections:\n",
    "    print(f'Working on {collection}')\n",
    "    data = getCollectionStats(collection)\n",
    "    # print(data)\n",
    "    collection_report.append(parseCollectionDetails(data))\n",
    "\n",
    "    attributes, traits = parseTraits(data)\n",
    "    d = buildShell(attributes)\n",
    "\n",
    "    distribution = pd.DataFrame(d)\n",
    "\n",
    "    calcFrequency(distribution)\n",
    "    assignRanks(distribution, attributes)\n",
    "    calcStd(distribution)\n",
    "    calcRarityScore(distribution)\n",
    "    distribution = distribution.assign(Symbol=parseCollectionDetails(data)['symbol'])\n",
    "    distribution = distribution[['Symbol', 'Attribute', 'Trait', 'Count', 'Trait_Frequency', 'Trait_Rank', 'Overall_Frequency', 'Overall_Rank', 'Attribute_Frequency', 'Attribute_std_dev', 'Rarity_Score']]\n",
    "    distribution.to_csv(f'distributions/{collection}_distribution.csv')\n",
    "\n",
    "collections_out = pd.DataFrame(collection_report)\n",
    "collections_out.to_csv('collections.csv')"
   ]
  },
  {
   "cell_type": "code",
   "execution_count": null,
   "metadata": {},
   "outputs": [],
   "source": []
  }
 ],
 "metadata": {
  "interpreter": {
   "hash": "65277a0cc331c95a88382946ca24e67de043f9ab506022f5eba8ad16a6110c2b"
  },
  "kernelspec": {
   "display_name": "Python 3.9.7 64-bit ('opensea_collections-xU4DGlig': pipenv)",
   "name": "python3"
  },
  "language_info": {
   "codemirror_mode": {
    "name": "ipython",
    "version": 3
   },
   "file_extension": ".py",
   "mimetype": "text/x-python",
   "name": "python",
   "nbconvert_exporter": "python",
   "pygments_lexer": "ipython3",
   "version": "3.9.7"
  },
  "orig_nbformat": 4
 },
 "nbformat": 4,
 "nbformat_minor": 2
}
