{
 "cells": [
  {
   "cell_type": "code",
   "execution_count": 1,
   "metadata": {},
   "outputs": [],
   "source": [
    "from web3 import Web3\n",
    "from web3._utils.events import get_event_data"
   ]
  },
  {
   "cell_type": "code",
   "execution_count": 3,
   "metadata": {},
   "outputs": [],
   "source": [
    "w3 = Web3(Web3.HTTPProvider(\"https://cloudflare-eth.com\"))\n",
    "ck_token_addr = \"0x06012c8cf97BEaD5deAe237070F9587f8E7A266d\" \n",
    "acc_address = \"0xb1690C08E213a35Ed9bAb7B318DE14420FB57d8C\" "
   ]
  },
  {
   "cell_type": "code",
   "execution_count": 6,
   "metadata": {},
   "outputs": [],
   "source": [
    "simplified_abi = [\n",
    "    {\n",
    "        'inputs': [{'internalType': 'address', 'name': 'owner', 'type': 'address'}],\n",
    "        'name': 'balanceOf',\n",
    "        'outputs': [{'internalType': 'uint256', 'name': '', 'type': 'uint256'}],\n",
    "        'payable': False, 'stateMutability': 'view', 'type': 'function', 'constant': True\n",
    "    },\n",
    "    {\n",
    "        'inputs': [],\n",
    "        'name': 'name',\n",
    "        'outputs': [{'internalType': 'string', 'name': '', 'type': 'string'}],\n",
    "        'stateMutability': 'view', 'type': 'function', 'constant': True\n",
    "    },\n",
    "    {\n",
    "        'inputs': [{'internalType': 'uint256', 'name': 'tokenId', 'type': 'uint256'}],\n",
    "        'name': 'ownerOf',\n",
    "        'outputs': [{'internalType': 'address', 'name': '', 'type': 'address'}],\n",
    "        'payable': False, 'stateMutability': 'view', 'type': 'function', 'constant': True\n",
    "    },\n",
    "    {\n",
    "        'inputs': [],\n",
    "        'name': 'symbol',\n",
    "        'outputs': [{'internalType': 'string', 'name': '', 'type': 'string'}],\n",
    "        'stateMutability': 'view', 'type': 'function', 'constant': True\n",
    "    },\n",
    "    {\n",
    "        'inputs': [],\n",
    "        'name': 'totalSupply',\n",
    "        'outputs': [{'internalType': 'uint256', 'name': '', 'type': 'uint256'}],\n",
    "        'stateMutability': 'view', 'type': 'function', 'constant': True\n",
    "    },\n",
    "]\n",
    "\n",
    "ck_extra_abi = [\n",
    "    {\n",
    "        'inputs': [],\n",
    "        'name': 'pregnantKitties',\n",
    "        'outputs': [{'name': '', 'type': 'uint256'}],\n",
    "        'payable': False, 'stateMutability': 'view', 'type': 'function', 'constant': True\n",
    "    },\n",
    "    {\n",
    "        'inputs': [{'name': '_kittyId', 'type': 'uint256'}],\n",
    "        'name': 'isPregnant',\n",
    "        'outputs': [{'name': '', 'type': 'bool'}],\n",
    "        'payable': False, 'stateMutability': 'view', 'type': 'function', 'constant': True\n",
    "    }\n",
    "]"
   ]
  },
  {
   "cell_type": "code",
   "execution_count": 8,
   "metadata": {},
   "outputs": [],
   "source": [
    "ck_contract = w3.eth.contract(address=w3.toChecksumAddress(ck_token_addr), abi=simplified_abi+ck_extra_abi)"
   ]
  },
  {
   "cell_type": "code",
   "execution_count": 9,
   "metadata": {},
   "outputs": [],
   "source": [
    "name = ck_contract.functions.name().call()"
   ]
  },
  {
   "cell_type": "code",
   "execution_count": 10,
   "metadata": {},
   "outputs": [],
   "source": [
    "symbol = ck_contract.functions.symbol().call()"
   ]
  },
  {
   "cell_type": "code",
   "execution_count": 11,
   "metadata": {},
   "outputs": [],
   "source": [
    "kitties_auctions = ck_contract.functions.balanceOf(acc_address).call()"
   ]
  },
  {
   "cell_type": "code",
   "execution_count": 12,
   "metadata": {},
   "outputs": [
    {
     "name": "stdout",
     "output_type": "stream",
     "text": [
      "CryptoKitties [CK] NFTs in Auctions: 174599\n"
     ]
    }
   ],
   "source": [
    "print(f\"{name} [{symbol}] NFTs in Auctions: {kitties_auctions}\")"
   ]
  },
  {
   "cell_type": "code",
   "execution_count": 13,
   "metadata": {},
   "outputs": [
    {
     "name": "stdout",
     "output_type": "stream",
     "text": [
      "CryptoKitties [CK] NFTs Pregnants: 4\n"
     ]
    }
   ],
   "source": [
    "pregnant_kitties = ck_contract.functions.pregnantKitties().call()\n",
    "print(f\"{name} [{symbol}] NFTs Pregnants: {pregnant_kitties}\")"
   ]
  },
  {
   "cell_type": "code",
   "execution_count": 14,
   "metadata": {},
   "outputs": [],
   "source": [
    "tx_event_abi = {\n",
    "    'anonymous': False,\n",
    "    'inputs': [\n",
    "        {'indexed': False, 'name': 'from', 'type': 'address'},\n",
    "        {'indexed': False, 'name': 'to', 'type': 'address'},\n",
    "        {'indexed': False, 'name': 'tokenId', 'type': 'uint256'}],\n",
    "    'name': 'Transfer',\n",
    "    'type': 'event'\n",
    "}"
   ]
  },
  {
   "cell_type": "code",
   "execution_count": 15,
   "metadata": {},
   "outputs": [],
   "source": [
    "event_signature = w3.sha3(text=\"Transfer(address,address,uint256)\").hex()"
   ]
  },
  {
   "cell_type": "code",
   "execution_count": 16,
   "metadata": {},
   "outputs": [],
   "source": [
    "logs = w3.eth.getLogs({\n",
    "    \"fromBlock\": w3.eth.blockNumber - 120,\n",
    "    \"address\": w3.toChecksumAddress(ck_token_addr),\n",
    "    \"topics\": [event_signature]\n",
    "})"
   ]
  },
  {
   "cell_type": "code",
   "execution_count": 20,
   "metadata": {},
   "outputs": [
    {
     "name": "stdout",
     "output_type": "stream",
     "text": [
      "[AttributeDict({'from': '0x0000000000000000000000000000000000000000', 'to': '0x2F805b7D741e16EDdd238878f5846D9dF9e7e5DB', 'tokenId': 2009579}), AttributeDict({'from': '0x0000000000000000000000000000000000000000', 'to': '0xf69761192a62a2C9FB16fefb55238bafA3c3688a', 'tokenId': 2009580}), AttributeDict({'from': '0xb1690C08E213a35Ed9bAb7B318DE14420FB57d8C', 'to': '0x2A0e21667A09B74B54f8B8e4C0a053A147568158', 'tokenId': 1153610})]\n"
     ]
    }
   ],
   "source": [
    "recent_tx = [get_event_data(w3.codec, tx_event_abi, log)[\"args\"] for log in logs]\n",
    "print(recent_tx)"
   ]
  },
  {
   "cell_type": "code",
   "execution_count": 18,
   "metadata": {},
   "outputs": [],
   "source": [
    "kitty_id = recent_tx[0]['tokenId']"
   ]
  },
  {
   "cell_type": "code",
   "execution_count": 19,
   "metadata": {},
   "outputs": [
    {
     "name": "stdout",
     "output_type": "stream",
     "text": [
      "CryptoKitties [CK] NFTs 2009579 is pregnant: False\n"
     ]
    }
   ],
   "source": [
    "is_pregnant = ck_contract.functions.isPregnant(kitty_id).call()\n",
    "print(f\"{name} [{symbol}] NFTs {kitty_id} is pregnant: {is_pregnant}\")"
   ]
  },
  {
   "cell_type": "code",
   "execution_count": null,
   "metadata": {},
   "outputs": [],
   "source": [
    "tokenABI = [\n",
    "    {\n",
    "        \"inputs\": [{\"internalType\": \"uint256\", \"name\": \"tokenID\", \"type\": \"uint256\"}],\n",
    "        \"name\": \"tokenURI\",\n",
    "        \"outputs\": [{\"internalType\": \"string\", \"name\": \"\", \"type\": \"string\"}],\n",
    "        \"stateMutability\": \"view\", \"type\": \"function\"\n",
    "    }\n",
    "]"
   ]
  },
  {
   "cell_type": "code",
   "execution_count": null,
   "metadata": {},
   "outputs": [],
   "source": [
    "contract = w3.eth.contract(address=w3.toCheckSumAddress(\"ENTER CONTRACT ADDRESS\"), abi=tokenABI)"
   ]
  },
  {
   "cell_type": "code",
   "execution_count": null,
   "metadata": {},
   "outputs": [],
   "source": [
    "token_metadata = contract.function.tokenURI(\"TOKEN ID HERE\").call()"
   ]
  }
 ],
 "metadata": {
  "interpreter": {
   "hash": "65277a0cc331c95a88382946ca24e67de043f9ab506022f5eba8ad16a6110c2b"
  },
  "kernelspec": {
   "display_name": "Python 3.9.7 64-bit ('opensea_collections-xU4DGlig': pipenv)",
   "language": "python",
   "name": "python3"
  },
  "language_info": {
   "codemirror_mode": {
    "name": "ipython",
    "version": 3
   },
   "file_extension": ".py",
   "mimetype": "text/x-python",
   "name": "python",
   "nbconvert_exporter": "python",
   "pygments_lexer": "ipython3",
   "version": "3.9.7"
  },
  "orig_nbformat": 4
 },
 "nbformat": 4,
 "nbformat_minor": 2
}
